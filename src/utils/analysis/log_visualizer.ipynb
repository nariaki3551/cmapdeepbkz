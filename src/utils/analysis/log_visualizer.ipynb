{
 "cells": [
  {
   "cell_type": "code",
   "execution_count": null,
   "id": "570cf89e",
   "metadata": {},
   "outputs": [],
   "source": [
    "import os\n",
    "import pandas\n",
    "import seaborn\n",
    "import matplotlib.pyplot as plt"
   ]
  },
  {
   "cell_type": "code",
   "execution_count": null,
   "id": "c63a4faf",
   "metadata": {},
   "outputs": [],
   "source": [
    "! ls ../../../logs"
   ]
  },
  {
   "cell_type": "markdown",
   "id": "324333e0",
   "metadata": {},
   "source": [
    "## Global setting"
   ]
  },
  {
   "cell_type": "code",
   "execution_count": null,
   "id": "f5ed3884",
   "metadata": {},
   "outputs": [],
   "source": [
    "# prefix of loggings\n",
    "log_prefix = \"../../../logs/xxx\""
   ]
  },
  {
   "cell_type": "markdown",
   "id": "93947cef",
   "metadata": {},
   "source": [
    "## Assignment and incumbent log"
   ]
  },
  {
   "cell_type": "code",
   "execution_count": null,
   "id": "aa7efac1",
   "metadata": {},
   "outputs": [],
   "source": [
    "assign_csv = log_prefix + \"_LC0_T.assign.csv\"\n",
    "df = pandas.read_csv(assign_csv)\n",
    "df"
   ]
  },
  {
   "cell_type": "markdown",
   "id": "529999a5",
   "metadata": {},
   "source": [
    "### Transition of Shortest Norm, Approximation Factor, Hermite Factor and Root Hermite Factor"
   ]
  },
  {
   "cell_type": "code",
   "execution_count": null,
   "id": "b2b91f25",
   "metadata": {},
   "outputs": [],
   "source": [
    "fig, axs = plt.subplots(1, 4, figsize=(16, 3))\n",
    "fig.subplots_adjust(wspace=0.4)\n",
    "\n",
    "# shortest norm\n",
    "seaborn.lineplot(x=\"time\", y=\"shortestNorm\", data=df, ax=axs[0])\n",
    "axs[0].set_ylabel(\"Shortest Norm\")\n",
    "\n",
    "# approximation factor\n",
    "seaborn.lineplot(x=\"time\", y=\"approxFactor\", data=df, ax=axs[1])\n",
    "axs[1].set_ylabel(\"Approximation Factor\")\n",
    "\n",
    "# hermite factor\n",
    "seaborn.lineplot(x=\"time\", y=\"hermiteFactor\", data=df, ax=axs[2])\n",
    "axs[2].set_ylabel(\"Hermite Factor\")\n",
    "\n",
    "# root hermite factor\n",
    "seaborn.lineplot(x=\"time\", y=\"rootHermiteFactor\", data=df, ax=axs[3])\n",
    "axs[3].set_ylabel(\"Root Hermite Factor\")\n",
    "\n",
    "for ax in fig.axes:\n",
    "    ax.grid(\"--\")\n",
    "    ax.set_xlabel(\"Time [s]\")"
   ]
  },
  {
   "cell_type": "markdown",
   "id": "68d3a379",
   "metadata": {},
   "source": [
    "### Transition of size of instance pool and share-data pool"
   ]
  },
  {
   "cell_type": "code",
   "execution_count": null,
   "id": "a7eaa5d4",
   "metadata": {},
   "outputs": [],
   "source": [
    "fig, axs = plt.subplots(1, 2, figsize=(12, 3))\n",
    "\n",
    "# size of instance pool\n",
    "seaborn.lineplot(x=\"time\", y=\"sizeOfInstancePool\", data=df, ax=axs[0])\n",
    "axs[0].set_ylabel(\"#Size of Instance Pool\")\n",
    "\n",
    "# size of instance pool\n",
    "seaborn.lineplot(x=\"time\", y=\"sizeOfShareDataPool\", data=df, ax=axs[1])\n",
    "axs[1].set_ylabel(\"#Size of Share Data Pool\")\n",
    "\n",
    "for ax in fig.axes:\n",
    "    ax.grid(\"--\")\n",
    "    ax.set_xlabel(\"Time [s]\")"
   ]
  },
  {
   "cell_type": "markdown",
   "id": "7738573a",
   "metadata": {},
   "source": [
    "### Transition of number of idle solvers, active BKZ solvers, active ENUM solvers, active Sieve solvers"
   ]
  },
  {
   "cell_type": "code",
   "execution_count": null,
   "id": "d37cc7e6",
   "metadata": {},
   "outputs": [],
   "source": [
    "fig, ax = plt.subplots()\n",
    "\n",
    "# shortest norm\n",
    "seaborn.lineplot(x=\"time\", y=\"numberOfIdleSolvers\", label=\"#Idle Solvers\", data=df, ax=ax)\n",
    "\n",
    "# approximation factor\n",
    "seaborn.lineplot(x=\"time\", y=\"numberOfActiveBkzSolvers\", label=\"#BKZ Solvers\", data=df, ax=ax)\n",
    "\n",
    "# hermite factor\n",
    "seaborn.lineplot(x=\"time\", y=\"numberOfActiveEnumSolvers\", label=\"#ENUM Solvers\", data=df, ax=ax)\n",
    "\n",
    "# root hermite factor\n",
    "seaborn.lineplot(x=\"time\", y=\"numberOfActiveSieveSolvers\", label=\"#Sieve Solvers\", data=df, ax=ax)\n",
    "\n",
    "ax.set_ylabel(\"#Solvers\")\n",
    "\n",
    "for ax in fig.axes:\n",
    "    ax.grid(\"--\")\n",
    "    ax.set_xlabel(\"Time [s]\")"
   ]
  },
  {
   "cell_type": "markdown",
   "id": "3551679a",
   "metadata": {},
   "source": [
    "## Stats of Load Coordinator"
   ]
  },
  {
   "cell_type": "code",
   "execution_count": null,
   "id": "20a47c15",
   "metadata": {},
   "outputs": [],
   "source": [
    "LC_process_time_csv = log_prefix + \"_LC0.processTimes.csv\"\n",
    "print(LC_process_time_csv)\n",
    "df = pandas.read_csv(LC_process_time_csv)\n",
    "df.tail(1)[[\n",
    "    \"time\",                        # logginged time\n",
    "    \"idleTime\",                    # total idle time for wait message from solvers\n",
    "    \"TagSolution\",                 # total time to process solution (i.e. incumbent lattice vector) object\n",
    "    \"TagSolutionCall\",             # total number of processing solution (i.e. incumbent lattice vector) object\n",
    "    \"TagSolverState\",              # total time to process solver status object\n",
    "    \"TagSolverStateCall\",          # total number of processing solver status object\n",
    "    \"TagCMapLapPackedVector\",      # total time to process lattice vectors object\n",
    "    \"TagCMapLapPackedVectorCall\",  # total number of processing lattice vectors object\n",
    "]]"
   ]
  },
  {
   "cell_type": "markdown",
   "id": "18c3472a",
   "metadata": {},
   "source": [
    "## Checkpointing data\n",
    "\n",
    "This is logging for creating checkpint files.\n",
    "`C` sigh represents the logging for coping checkpoint data,\n",
    "and `W` sigh represents the logging for writing checkpoint data which copied previous `C` log."
   ]
  },
  {
   "cell_type": "code",
   "execution_count": null,
   "id": "c40eded2",
   "metadata": {},
   "outputs": [],
   "source": [
    "checkpoint_csv = log_prefix + \"_LC0.checkpoint.csv\"\n",
    "print(checkpoint_csv)\n",
    "df = pandas.read_csv(checkpoint_csv)\n",
    "df"
   ]
  },
  {
   "cell_type": "markdown",
   "id": "251d63dd",
   "metadata": {},
   "source": [
    "## Statistics for solvers"
   ]
  },
  {
   "cell_type": "code",
   "execution_count": null,
   "id": "0e5184b7",
   "metadata": {},
   "outputs": [],
   "source": [
    "LC_statistics_final = log_prefix + \"_statistics_final_LC0.csv\"\n",
    "df = pandas.read_csv(LC_statistics_final)\n",
    "df"
   ]
  },
  {
   "cell_type": "markdown",
   "id": "1a9b80a4",
   "metadata": {},
   "source": [
    "## Statistics for Share-data pool"
   ]
  },
  {
   "cell_type": "code",
   "execution_count": null,
   "id": "6a4a291f",
   "metadata": {},
   "outputs": [],
   "source": [
    "sharedata_pool_stat = log_prefix + \"_LC0.sharedatapool.stat.csv\"\n",
    "if os.path.exists(sharedata_pool_stat):\n",
    "    df = pandas.read_csv(sharedata_pool_stat)\n",
    "    df"
   ]
  },
  {
   "cell_type": "code",
   "execution_count": null,
   "id": "8c13e0f1",
   "metadata": {},
   "outputs": [],
   "source": [
    "sharedata_pool_all = log_prefix + \"_LC0.sharedatapool.all.txt\"\n",
    "\n",
    "if os.path.exists(sharedata_pool_all):\n",
    "\n",
    "    import re\n",
    "    import attrdict\n",
    "    Log = re.compile(\"(?P<squared_norm>.*)\\((?P<algorithm>.*)\\)\")\n",
    "\n",
    "\n",
    "    for row in open(sharedata_pool_all, \"r\"):\n",
    "        time, _, *vec_datas = row.strip().split()\n",
    "        data = []\n",
    "        for vec_data in vec_datas:\n",
    "            _vec_data = attrdict.AttrDict(Log.match(vec_data).groupdict())\n",
    "            algo, squared_norm = _vec_data.algorithm, float(_vec_data.squared_norm)\n",
    "            if algo == \"0\":\n",
    "                data.append(dict(algo=\"DeepBKZ\", squared_norm=squared_norm))\n",
    "            elif algo == \"1\":\n",
    "                data.append(dict(algo=\"ENUM\", squared_norm=squared_norm))\n",
    "            else:\n",
    "                data.append(dict(algo=\"Sieve\", squared_norm=squared_norm))\n",
    "\n",
    "    df = pandas.DataFrame(data)\n",
    "    fig, ax = plt.subplots()\n",
    "    seaborn.histplot(\n",
    "        data=df,\n",
    "        x=\"squared_norm\",\n",
    "        hue=\"algo\",\n",
    "        multiple=\"stack\",\n",
    "        bins=1000,\n",
    "    #     kde=True,\n",
    "        ax=ax\n",
    "    )\n",
    "    ax.set_xlim((0, 2*1e8))\n",
    "    ax.set_title(f\"Time {time} s\")\n",
    "    ax.set_xlabel(\"Squared Norm\")"
   ]
  },
  {
   "cell_type": "code",
   "execution_count": null,
   "id": "04ffbd84",
   "metadata": {},
   "outputs": [],
   "source": []
  }
 ],
 "metadata": {
  "kernelspec": {
   "display_name": "Python 3 (ipykernel)",
   "language": "python",
   "name": "python3"
  },
  "language_info": {
   "codemirror_mode": {
    "name": "ipython",
    "version": 3
   },
   "file_extension": ".py",
   "mimetype": "text/x-python",
   "name": "python",
   "nbconvert_exporter": "python",
   "pygments_lexer": "ipython3",
   "version": "3.9.10"
  },
  "toc": {
   "base_numbering": 1,
   "nav_menu": {},
   "number_sections": true,
   "sideBar": true,
   "skip_h1_title": false,
   "title_cell": "Table of Contents",
   "title_sidebar": "Contents",
   "toc_cell": false,
   "toc_position": {},
   "toc_section_display": true,
   "toc_window_display": false
  }
 },
 "nbformat": 4,
 "nbformat_minor": 5
}
